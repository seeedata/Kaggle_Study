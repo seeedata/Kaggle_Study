{
  "nbformat": 4,
  "nbformat_minor": 0,
  "metadata": {
    "colab": {
      "provenance": [],
      "machine_shape": "hm",
      "gpuType": "V100",
      "mount_file_id": "1YDkr8oBgqDDTLlXYLiLv5R7dqvlu4EjC",
      "authorship_tag": "ABX9TyNkTVKUkGrKp0Nkj3PC3sFb",
      "include_colab_link": true
    },
    "kernelspec": {
      "name": "python3",
      "display_name": "Python 3"
    },
    "language_info": {
      "name": "python"
    },
    "accelerator": "GPU"
  },
  "cells": [
    {
      "cell_type": "markdown",
      "metadata": {
        "id": "view-in-github",
        "colab_type": "text"
      },
      "source": [
        "<a href=\"https://colab.research.google.com/github/seeedata/Kaggle_Study/blob/main/231010%20digit%20recognizer.ipynb\" target=\"_parent\"><img src=\"https://colab.research.google.com/assets/colab-badge.svg\" alt=\"Open In Colab\"/></a>"
      ]
    },
    {
      "cell_type": "markdown",
      "source": [
        "#MNIST-digit recognizer\n",
        "https://www.kaggle.com/code/tawfikelmetwally/mnist-digit-recognizer-99-38-accuracy/notebook"
      ],
      "metadata": {
        "id": "8j1NVzTw0Uv7"
      }
    },
    {
      "cell_type": "markdown",
      "source": [
        "#Preparing Data"
      ],
      "metadata": {
        "id": "26S9kkc_07BX"
      }
    },
    {
      "cell_type": "markdown",
      "source": [
        "##1 - reading and exploring data"
      ],
      "metadata": {
        "id": "hP6pUWNj0-fM"
      }
    },
    {
      "cell_type": "code",
      "execution_count": 1,
      "metadata": {
        "id": "x4JrZijBzflK"
      },
      "outputs": [],
      "source": [
        "import os\n",
        "import pandas as pd\n",
        "import numpy as np\n",
        "import seaborn as sns\n",
        "import matplotlib.pyplot as plt\n",
        "\n",
        "from sklearn.model_selection import train_test_split\n",
        "\n",
        "from keras.utils import to_categorical\n",
        "from keras.models import Sequential\n",
        "from keras.layers import Dense, Dropout, Flatten, Conv2D, MaxPooling2D, BatchNormalization\n",
        "from keras.optimizers import RMSprop, Adam\n",
        "from keras.preprocessing.image import ImageDataGenerator\n",
        "from keras.callbacks import ReduceLROnPlateau, EarlyStopping\n",
        "\n",
        "import warnings\n",
        "warnings.filterwarnings('ignore')"
      ]
    },
    {
      "cell_type": "code",
      "source": [
        "print(os.listdir('/content/drive/MyDrive/KUCC/23-2 캐글 필사 스터디/3주차'))"
      ],
      "metadata": {
        "colab": {
          "base_uri": "https://localhost:8080/"
        },
        "id": "NHEcvbe71xov",
        "outputId": "46a19d38-f275-4b13-869d-1f7c446039ca"
      },
      "execution_count": 2,
      "outputs": [
        {
          "output_type": "stream",
          "name": "stdout",
          "text": [
            "['train.csv', 'sample_submission.csv', 'test.csv', 'digit recognizer.ipynb']\n"
          ]
        }
      ]
    },
    {
      "cell_type": "code",
      "source": [
        "train = pd.read_csv('/content/drive/MyDrive/KUCC/23-2 캐글 필사 스터디/3주차/train.csv')\n",
        "test = pd.read_csv('/content/drive/MyDrive/KUCC/23-2 캐글 필사 스터디/3주차/test.csv')\n",
        "submission = pd.read_csv('/content/drive/MyDrive/KUCC/23-2 캐글 필사 스터디/3주차/sample_submission.csv')\n",
        "\n",
        "print(train.shape, test.shape)"
      ],
      "metadata": {
        "colab": {
          "base_uri": "https://localhost:8080/"
        },
        "id": "GL-pgBYJ2KFz",
        "outputId": "46b024fb-0895-4717-c43d-a40a4c48742c"
      },
      "execution_count": 3,
      "outputs": [
        {
          "output_type": "stream",
          "name": "stdout",
          "text": [
            "(42000, 785) (28000, 784)\n"
          ]
        }
      ]
    },
    {
      "cell_type": "code",
      "source": [
        "print(train.head(1))\n",
        "print('\\n', test.head(1))"
      ],
      "metadata": {
        "colab": {
          "base_uri": "https://localhost:8080/"
        },
        "id": "mWJNAyq12n3K",
        "outputId": "7a2d18f7-3d79-4881-dc73-a5f09eec4af0"
      },
      "execution_count": 4,
      "outputs": [
        {
          "output_type": "stream",
          "name": "stdout",
          "text": [
            "   label  pixel0  pixel1  pixel2  pixel3  pixel4  pixel5  pixel6  pixel7  \\\n",
            "0      1       0       0       0       0       0       0       0       0   \n",
            "\n",
            "   pixel8  ...  pixel774  pixel775  pixel776  pixel777  pixel778  pixel779  \\\n",
            "0       0  ...         0         0         0         0         0         0   \n",
            "\n",
            "   pixel780  pixel781  pixel782  pixel783  \n",
            "0         0         0         0         0  \n",
            "\n",
            "[1 rows x 785 columns]\n",
            "\n",
            "    pixel0  pixel1  pixel2  pixel3  pixel4  pixel5  pixel6  pixel7  pixel8  \\\n",
            "0       0       0       0       0       0       0       0       0       0   \n",
            "\n",
            "   pixel9  ...  pixel774  pixel775  pixel776  pixel777  pixel778  pixel779  \\\n",
            "0       0  ...         0         0         0         0         0         0   \n",
            "\n",
            "   pixel780  pixel781  pixel782  pixel783  \n",
            "0         0         0         0         0  \n",
            "\n",
            "[1 rows x 784 columns]\n"
          ]
        }
      ]
    },
    {
      "cell_type": "code",
      "source": [
        "#put labels into y_train\n",
        "y_train = train['label']\n",
        "\n",
        "#drop 'label' column\n",
        "X_train = train.drop('label', axis=1)\n",
        "\n",
        "X_train.shape, y_train.shape"
      ],
      "metadata": {
        "colab": {
          "base_uri": "https://localhost:8080/"
        },
        "id": "4wd0YzVb2isl",
        "outputId": "c0c68175-a721-42fd-a0d6-05d7f496faa5"
      },
      "execution_count": 5,
      "outputs": [
        {
          "output_type": "execute_result",
          "data": {
            "text/plain": [
              "((42000, 784), (42000,))"
            ]
          },
          "metadata": {},
          "execution_count": 5
        }
      ]
    },
    {
      "cell_type": "code",
      "source": [
        "#visualize number of digits classes\n",
        "plt.figure(figsize=(15,7))\n",
        "sns.countplot(x='label', data=train)\n",
        "plt.title('Number of digit classes');  #;: plt.show()"
      ],
      "metadata": {
        "colab": {
          "base_uri": "https://localhost:8080/",
          "height": 424
        },
        "id": "Q34Mpa_h3OPr",
        "outputId": "07621d62-a770-402d-c6b4-c968822ea79e"
      },
      "execution_count": 6,
      "outputs": [
        {
          "output_type": "display_data",
          "data": {
            "text/plain": [
              "<Figure size 1500x700 with 1 Axes>"
            ],
            "image/png": "[encoded data removed]"
          },
          "metadata": {}
        }
      ]
    },
    {
      "cell_type": "markdown",
      "source": [
        "All classes are almost balanced."
      ],
      "metadata": {
        "id": "2cpbNNoY3q9N"
      }
    },
    {
      "cell_type": "markdown",
      "source": [
        "##2 - Ploting a sample"
      ],
      "metadata": {
        "id": "WrlyBGeF3wGE"
      }
    },
    {
      "cell_type": "markdown",
      "source": [
        "Note that we choose the shape of images 28 x 28 because the dataframe contains 784 which means 28 x 28."
      ],
      "metadata": {
        "id": "Z_Nr9aUZ38dK"
      }
    },
    {
      "cell_type": "code",
      "source": [
        "#sample 25 images\n",
        "np.random.seed(42)\n",
        "random_indices = np.random.randint(0, 42000, 25)\n",
        "\n",
        "images = []\n",
        "labels = []\n",
        "for i in random_indices:\n",
        "    img = X_train.iloc[i].to_numpy()\n",
        "    img = img.reshape((28, 28, 1))  #1: 흑백 이미지\n",
        "    images.append(img)\n",
        "    label = y_train[i]\n",
        "    labels.append(label)\n",
        "\n",
        "#plot the images\n",
        "plt.subplots(figsize=(8,8))\n",
        "for i, image in enumerate(images):\n",
        "    plt.subplot(5, 5, i+1)\n",
        "    plt.imshow(image, cmap='gray')\n",
        "    plt.title(labels[i])\n",
        "    plt.axis('off')  #축을 없앰\n",
        "plt.tight_layout()\n",
        "plt.show()"
      ],
      "metadata": {
        "colab": {
          "base_uri": "https://localhost:8080/",
          "height": 806
        },
        "id": "ev6PkuV63iWI",
        "outputId": "9ed4aca4-9917-47ae-af82-3baf457cddfb"
      },
      "execution_count": 7,
      "outputs": [
        {
          "output_type": "display_data",
          "data": {
            "text/plain": [
              "<Figure size 800x800 with 25 Axes>"
            ],
            "image/png": "[encoded data removed]"
          },
          "metadata": {}
        }
      ]
    },
    {
      "cell_type": "markdown",
      "source": [
        "## 3 - Normalization, Reshape and Label Encoding\n",
        "\n",
        "- Normalization\n",
        "     - We perform a grayscale normalization to reduce the effect of illumination's differences.\n",
        "     - If we perform normalization, CNN works faster.\n",
        "\n",
        "- Reshape\n",
        "    - Train and test images (28 x 28)\n",
        "    - We reshape all data to 28 x 28 x 1 3D matrices.\n",
        "    - Keras needs and extra dimension in the end which corresponds to channels. Our images are gray scaled so it use only one channel.\n",
        "\n",
        "- Label Encoding\n",
        "    - Encode labels to one hot vectors\n",
        "    \n",
        "    2 => [0,0,1,0,0,0,0,0,0,0]\n",
        "\n",
        "    4 => [0,0,0,0,1,0,0,0,0,0]\n"
      ],
      "metadata": {
        "id": "RI22kBXA9cy2"
      }
    },
    {
      "cell_type": "markdown",
      "source": [
        "**grayscale normalization**\n",
        "\n",
        "각 이미지의 픽셀 값은 일반적으로 0(검은색)부터 255(흰색)까지의 범위를 가진다. 모든 이미지 데이터를 255.0으로 나눠, 픽셀 값의 범위를 0에서 1 사이의 값으로 정규화하면, 이미지의 밝기 값이 일정 범위 내로 조정된다."
      ],
      "metadata": {
        "id": "tCYWgPqo-Apv"
      }
    },
    {
      "cell_type": "code",
      "source": [
        "#normalize the data\n",
        "X_train = X_train / 255.0\n",
        "test = test / 255.0\n",
        "\n",
        "#label encoding\n",
        "y_train = to_categorical(y_train, num_classes=10)\n",
        "\n",
        "#reshape\n",
        "X_train = X_train.values.reshape(-1, 28, 28, 1)\n",
        "#변경된 배열의 '-1' 위치의 차원은 \"원래 배열의 길이와 남은 차원으로부터 추정\"이 된다.\n",
        "test = test.values.reshape(-1, 28, 28, 1)\n",
        "print('X_train shape: ', X_train.shape)\n",
        "print('test shape: ', test.shape)"
      ],
      "metadata": {
        "colab": {
          "base_uri": "https://localhost:8080/"
        },
        "id": "jJ6UEp3U_cWj",
        "outputId": "3ad3d289-fa6a-4ce1-e5a4-e3453b64ba88"
      },
      "execution_count": 8,
      "outputs": [
        {
          "output_type": "stream",
          "name": "stdout",
          "text": [
            "X_train shape:  (42000, 28, 28, 1)\n",
            "test shape:  (28000, 28, 28, 1)\n"
          ]
        }
      ]
    },
    {
      "cell_type": "markdown",
      "source": [
        "##4 - Splitting the data\n",
        "\n",
        "We split the data into train and val sets.\n",
        "- val size is 20%.\n",
        "- train size is 80%."
      ],
      "metadata": {
        "id": "inhAP_8yEQMk"
      }
    },
    {
      "cell_type": "code",
      "source": [
        "X_train, X_val, y_train, y_val = train_test_split(X_train, y_train, test_size=0.2, random_state=42)\n",
        "print(X_train.shape, y_train.shape)\n",
        "print(X_val.shape, y_val.shape)"
      ],
      "metadata": {
        "colab": {
          "base_uri": "https://localhost:8080/"
        },
        "id": "OGaLCwdbEN1J",
        "outputId": "dfcbda27-97c3-466b-a6a0-c23adc1134cb"
      },
      "execution_count": 9,
      "outputs": [
        {
          "output_type": "stream",
          "name": "stdout",
          "text": [
            "(33600, 28, 28, 1) (33600, 10)\n",
            "(8400, 28, 28, 1) (8400, 10)\n"
          ]
        }
      ]
    },
    {
      "cell_type": "markdown",
      "source": [
        "#Data Augmentation\n",
        "to avoid overfitting problem"
      ],
      "metadata": {
        "id": "hcmYAhFaFMO4"
      }
    },
    {
      "cell_type": "code",
      "source": [
        "datagen = ImageDataGenerator(\n",
        "    #이미지 밝기 조절\n",
        "    #이미지의 픽셀 값에서 평균 값을 빼서 이미지를 중앙 정렬\n",
        "    #전체 데이터셋의 평균을 기준으로 정렬\n",
        "    featurewise_center = False,\n",
        "    #각 이미지에 대해 해당 이미지의 픽셀 값에서 평균 값을 빼서 이미지를 중앙 정렬\n",
        "    #각 이미지를 개별적으로 중앙 정렬\n",
        "    samplewise_center = False,\n",
        "\n",
        "    #이미지 대비 조절\n",
        "    #이미지의 각 픽셀 값을 전체 데이터셋에서 계산한 평균, 표준편차로 정규화\n",
        "    #전체 데이터셋의 픽셀 값 분포를 기준으로 정규화\n",
        "    featurewise_std_normalization = False,\n",
        "    #각 이미지에 대해 해당 이미지의 픽셀 값을 이미지 자체의 평균, 표준편차로 정규화\n",
        "    #각 이미지를 개별적으로 정규화\n",
        "    samplewise_std_normalization = False,\n",
        "\n",
        "    #이미지를 무작위로 회전시키는 범위. 최대 20도까지 무작위 회전\n",
        "    rotation_range = 20,\n",
        "    #이미지를 무작위로 확대 또는 축소하는 범위\n",
        "    zoom_range = 0.2,\n",
        "    #이미지를 수평 또는 수직으로 무작위로 이동하는 범위\n",
        "    width_shift_range = 0.2,\n",
        "    height_shift_range = 0.2,\n",
        "\n",
        "    #이미지를 수평 또는 수직으로 무작위로 뒤집기\n",
        "    horizontal_flip = False,\n",
        "    vertical_flip = False)\n",
        "\n",
        "#이미지 데이터를 mini-batch 형태로 생성\n",
        "train_gen = datagen.flow(X_train, y_train, batch_size=128)\n",
        "val_gen = datagen.flow(X_val, y_val, batch_size=128)"
      ],
      "metadata": {
        "id": "25bkxe_XFEXE"
      },
      "execution_count": 10,
      "outputs": []
    },
    {
      "cell_type": "code",
      "source": [
        "img = X_train[2].reshape((1, 28, 28, 1))\n",
        "\n",
        "for i, batch in enumerate(datagen.flow(img, batch_size=1)):\n",
        "    plt.subplot(3, 3, i+1)\n",
        "    plt.imshow(batch[0], cmap='gray')\n",
        "    plt.axis('off')\n",
        "\n",
        "    if i == 8: break\n",
        "\n",
        "plt.tight_layout()\n",
        "plt.show()"
      ],
      "metadata": {
        "colab": {
          "base_uri": "https://localhost:8080/",
          "height": 486
        },
        "id": "xpHRfJEbTNr3",
        "outputId": "f5dc2d5d-b589-467d-bfd0-5073d78c2b94"
      },
      "execution_count": 11,
      "outputs": [
        {
          "output_type": "display_data",
          "data": {
            "text/plain": [
              "<Figure size 640x480 with 9 Axes>"
            ],
            "image/png": "[encoded data removed]"
          },
          "metadata": {}
        }
      ]
    },
    {
      "cell_type": "markdown",
      "source": [
        "#modeling"
      ],
      "metadata": {
        "id": "TTkweOsWUdXB"
      }
    },
    {
      "cell_type": "code",
      "source": [
        "def model():\n",
        "    model = Sequential([\n",
        "\n",
        "    Conv2D(64, kernel_size=(3,3), padding='Same', activation='relu', input_shape=(28,28,1)),\n",
        "    Conv2D(64, kernel_size=(3,3), padding='Same', activation='relu'),\n",
        "    MaxPooling2D(2,2),\n",
        "    BatchNormalization(),\n",
        "\n",
        "    Conv2D(128, kernel_size=(3,3), padding='Same', activation='relu'),\n",
        "    Conv2D(128, kernel_size=(3,3), padding='Same', activation='relu'),\n",
        "    MaxPooling2D(2,2),\n",
        "    BatchNormalization(),\n",
        "\n",
        "    Conv2D(filters=256, kernel_size=(3,3), activation='relu'),\n",
        "    MaxPooling2D(2,2),\n",
        "    BatchNormalization(),\n",
        "\n",
        "    Flatten(),\n",
        "    Dense(512, activation='relu'),\n",
        "    Dropout(0.5),\n",
        "\n",
        "    Dense(10, activation='softmax')\n",
        "    ])\n",
        "\n",
        "    return model\n",
        "\n",
        "model_1 = model()\n",
        "model_1.summary()"
      ],
      "metadata": {
        "colab": {
          "base_uri": "https://localhost:8080/"
        },
        "id": "M_ceiFc8Tofn",
        "outputId": "9d423c0b-8a8f-472f-fd24-924a93b332d3"
      },
      "execution_count": 12,
      "outputs": [
        {
          "output_type": "stream",
          "name": "stdout",
          "text": [
            "Model: \"sequential\"\n",
            "_________________________________________________________________\n",
            " Layer (type)                Output Shape              Param #   \n",
            "=================================================================\n",
            " conv2d (Conv2D)             (None, 28, 28, 64)        640       \n",
            "                                                                 \n",
            " conv2d_1 (Conv2D)           (None, 28, 28, 64)        36928     \n",
            "                                                                 \n",
            " max_pooling2d (MaxPooling2  (None, 14, 14, 64)        0         \n",
            " D)                                                              \n",
            "                                                                 \n",
            " batch_normalization (Batch  (None, 14, 14, 64)        256       \n",
            " Normalization)                                                  \n",
            "                                                                 \n",
            " conv2d_2 (Conv2D)           (None, 14, 14, 128)       73856     \n",
            "                                                                 \n",
            " conv2d_3 (Conv2D)           (None, 14, 14, 128)       147584    \n",
            "                                                                 \n",
            " max_pooling2d_1 (MaxPoolin  (None, 7, 7, 128)         0         \n",
            " g2D)                                                            \n",
            "                                                                 \n",
            " batch_normalization_1 (Bat  (None, 7, 7, 128)         512       \n",
            " chNormalization)                                                \n",
            "                                                                 \n",
            " conv2d_4 (Conv2D)           (None, 5, 5, 256)         295168    \n",
            "                                                                 \n",
            " max_pooling2d_2 (MaxPoolin  (None, 2, 2, 256)         0         \n",
            " g2D)                                                            \n",
            "                                                                 \n",
            " batch_normalization_2 (Bat  (None, 2, 2, 256)         1024      \n",
            " chNormalization)                                                \n",
            "                                                                 \n",
            " flatten (Flatten)           (None, 1024)              0         \n",
            "                                                                 \n",
            " dense (Dense)               (None, 512)               524800    \n",
            "                                                                 \n",
            " dropout (Dropout)           (None, 512)               0         \n",
            "                                                                 \n",
            " dense_1 (Dense)             (None, 10)                5130      \n",
            "                                                                 \n",
            "=================================================================\n",
            "Total params: 1085898 (4.14 MB)\n",
            "Trainable params: 1085002 (4.14 MB)\n",
            "Non-trainable params: 896 (3.50 KB)\n",
            "_________________________________________________________________\n"
          ]
        }
      ]
    },
    {
      "cell_type": "code",
      "source": [
        "optimizer = Adam(learning_rate = 0.001)\n",
        "\n",
        "model_1.compile(optimizer=optimizer, loss='categorical_crossentropy', metrics=['accuracy'])"
      ],
      "metadata": {
        "id": "X-X_Tn69WGEv"
      },
      "execution_count": 13,
      "outputs": []
    },
    {
      "cell_type": "code",
      "source": [
        "#정확도가 개선되지 않을 때 학습률이 줄어든다.\n",
        "#학습률이 너무 높아서 수렴하지 않는 상황이나, 정확도 향상이 미미한 경우에 모델의 학습을 안정화시키고 빠르게 수렴하도록 도와준다.\n",
        "learning_rate_reduction = ReduceLROnPlateau(\n",
        "    #val set의 정확도를 기준으로 학습률 조절\n",
        "    monitor='val_accuracy',\n",
        "    #val_accuracy가 3 epoch 동안 향상되지 않으면 학습률 조절\n",
        "    patience=3,\n",
        "    #상세 정보 출력\n",
        "    verbose=1,\n",
        "    #학습률을 반으로 줄이며 조절\n",
        "    factor=0.5,\n",
        "    #학습률이 조절될 때의 최소값\n",
        "    min_lr=0.00001)\n",
        "\n",
        "#모델의 훈련을 조기 종료 -> 과적합 방지\n",
        "early_stopping = EarlyStopping(\n",
        "    monitor='val_accuracy',\n",
        "    patience=5,\n",
        "    verbose=1,\n",
        "    #val_accuracy를 최대화하는 방향으로 모니터링. 정확도가 개선될 때마다 훈련을 계속함.\n",
        "    mode='max',\n",
        "    #조기 종료가 발생했을 때, 가장 성능이 좋았던 에포크의 가중치를 모델에 복원\n",
        "    #최상의 모델 가중치를 유지하면서 훈련을 조기 종료할 수 있음\n",
        "    #훈련 중에 발생한 과적합을 방지하면서도 최상의 모델을 얻을 수 있도록 도와줌\n",
        "    restore_best_weights=True)"
      ],
      "metadata": {
        "id": "9cFNccTgXnB9"
      },
      "execution_count": 14,
      "outputs": []
    },
    {
      "cell_type": "code",
      "source": [
        "#fit the model\n",
        "history = model_1.fit_generator(\n",
        "    train_gen,\n",
        "    epochs = 20,\n",
        "    #각 epoch에서 mini-batch의 수. 전체 데이터를 mini-batch 크기로 나눈 결과\n",
        "    steps_per_epoch = X_train.shape[0] // 128,\n",
        "    validation_data = val_gen,\n",
        "    validation_steps = X_val.shape[0] // 128,\n",
        "    callbacks = [learning_rate_reduction, early_stopping],\n",
        "    verbose = 2\n",
        ")"
      ],
      "metadata": {
        "colab": {
          "base_uri": "https://localhost:8080/"
        },
        "id": "uus353TO5Uhs",
        "outputId": "71c03421-2515-4d8b-afda-5460419244f8"
      },
      "execution_count": 15,
      "outputs": [
        {
          "output_type": "stream",
          "name": "stdout",
          "text": [
            "Epoch 1/20\n",
            "262/262 - 25s - loss: 0.4695 - accuracy: 0.8522 - val_loss: 2.6264 - val_accuracy: 0.3572 - lr: 0.0010 - 25s/epoch - 97ms/step\n",
            "Epoch 2/20\n",
            "262/262 - 16s - loss: 0.1525 - accuracy: 0.9540 - val_loss: 0.2752 - val_accuracy: 0.9168 - lr: 0.0010 - 16s/epoch - 60ms/step\n",
            "Epoch 3/20\n",
            "262/262 - 12s - loss: 0.1080 - accuracy: 0.9676 - val_loss: 0.0928 - val_accuracy: 0.9707 - lr: 0.0010 - 12s/epoch - 47ms/step\n",
            "Epoch 4/20\n",
            "262/262 - 12s - loss: 0.0898 - accuracy: 0.9749 - val_loss: 0.0873 - val_accuracy: 0.9738 - lr: 0.0010 - 12s/epoch - 47ms/step\n",
            "Epoch 5/20\n",
            "262/262 - 13s - loss: 0.0823 - accuracy: 0.9761 - val_loss: 0.0745 - val_accuracy: 0.9778 - lr: 0.0010 - 13s/epoch - 48ms/step\n",
            "Epoch 6/20\n",
            "262/262 - 12s - loss: 0.0713 - accuracy: 0.9791 - val_loss: 0.0640 - val_accuracy: 0.9796 - lr: 0.0010 - 12s/epoch - 47ms/step\n",
            "Epoch 7/20\n",
            "262/262 - 12s - loss: 0.0658 - accuracy: 0.9810 - val_loss: 0.0489 - val_accuracy: 0.9846 - lr: 0.0010 - 12s/epoch - 47ms/step\n",
            "Epoch 8/20\n",
            "262/262 - 12s - loss: 0.0643 - accuracy: 0.9813 - val_loss: 0.1510 - val_accuracy: 0.9541 - lr: 0.0010 - 12s/epoch - 47ms/step\n",
            "Epoch 9/20\n",
            "262/262 - 12s - loss: 0.0596 - accuracy: 0.9819 - val_loss: 0.0506 - val_accuracy: 0.9838 - lr: 0.0010 - 12s/epoch - 45ms/step\n",
            "Epoch 10/20\n",
            "\n",
            "Epoch 10: ReduceLROnPlateau reducing learning rate to 0.0005000000237487257.\n",
            "262/262 - 12s - loss: 0.0559 - accuracy: 0.9841 - val_loss: 0.0662 - val_accuracy: 0.9828 - lr: 0.0010 - 12s/epoch - 46ms/step\n",
            "Epoch 11/20\n",
            "262/262 - 12s - loss: 0.0457 - accuracy: 0.9867 - val_loss: 0.0323 - val_accuracy: 0.9892 - lr: 5.0000e-04 - 12s/epoch - 47ms/step\n",
            "Epoch 12/20\n",
            "262/262 - 13s - loss: 0.0390 - accuracy: 0.9888 - val_loss: 0.0421 - val_accuracy: 0.9876 - lr: 5.0000e-04 - 13s/epoch - 49ms/step\n",
            "Epoch 13/20\n",
            "262/262 - 11s - loss: 0.0337 - accuracy: 0.9901 - val_loss: 0.0347 - val_accuracy: 0.9901 - lr: 5.0000e-04 - 11s/epoch - 43ms/step\n",
            "Epoch 14/20\n",
            "262/262 - 12s - loss: 0.0327 - accuracy: 0.9901 - val_loss: 0.0463 - val_accuracy: 0.9871 - lr: 5.0000e-04 - 12s/epoch - 45ms/step\n",
            "Epoch 15/20\n",
            "262/262 - 12s - loss: 0.0372 - accuracy: 0.9889 - val_loss: 0.0364 - val_accuracy: 0.9895 - lr: 5.0000e-04 - 12s/epoch - 44ms/step\n",
            "Epoch 16/20\n",
            "262/262 - 12s - loss: 0.0358 - accuracy: 0.9897 - val_loss: 0.0263 - val_accuracy: 0.9916 - lr: 5.0000e-04 - 12s/epoch - 45ms/step\n",
            "Epoch 17/20\n",
            "262/262 - 12s - loss: 0.0352 - accuracy: 0.9902 - val_loss: 0.0327 - val_accuracy: 0.9897 - lr: 5.0000e-04 - 12s/epoch - 45ms/step\n",
            "Epoch 18/20\n",
            "262/262 - 13s - loss: 0.0306 - accuracy: 0.9909 - val_loss: 0.0346 - val_accuracy: 0.9893 - lr: 5.0000e-04 - 13s/epoch - 50ms/step\n",
            "Epoch 19/20\n",
            "\n",
            "Epoch 19: ReduceLROnPlateau reducing learning rate to 0.0002500000118743628.\n",
            "262/262 - 12s - loss: 0.0329 - accuracy: 0.9904 - val_loss: 0.0385 - val_accuracy: 0.9898 - lr: 5.0000e-04 - 12s/epoch - 45ms/step\n",
            "Epoch 20/20\n",
            "262/262 - 12s - loss: 0.0271 - accuracy: 0.9916 - val_loss: 0.0282 - val_accuracy: 0.9919 - lr: 2.5000e-04 - 12s/epoch - 44ms/step\n"
          ]
        }
      ]
    },
    {
      "cell_type": "code",
      "source": [
        "acc = history.history['accuracy']\n",
        "val_acc = history.history['val_accuracy']\n",
        "loss = history.history['loss']\n",
        "val_loss = history.history['val_loss']\n",
        "\n",
        "fig, ax = plt.subplots(2, 1, figsize=(8,6))\n",
        "\n",
        "epochs = range(1, len(acc)+1)\n",
        "\n",
        "ax[0].plot(epochs, acc, 'b--', label='Training acc')\n",
        "ax[0].plot(epochs, val_acc, 'r', label='Validation acc')\n",
        "ax[0].set_title('Training and validation accuracy')\n",
        "ax[0].legend()\n",
        "\n",
        "ax[1].plot(epochs, loss, 'b--', label='Training loss')\n",
        "ax[1].plot(epochs, val_loss, 'r', label='Validation loss')\n",
        "ax[1].set_title('Training and validation loss')\n",
        "ax[1].legend()\n",
        "\n",
        "plt.tight_layout()\n",
        "plt.show()"
      ],
      "metadata": {
        "colab": {
          "base_uri": "https://localhost:8080/",
          "height": 607
        },
        "id": "K9QepiS_7zWg",
        "outputId": "98f2bd57-aec2-4aa6-fa19-943a687ca94c"
      },
      "execution_count": 16,
      "outputs": [
        {
          "output_type": "display_data",
          "data": {
            "text/plain": [
              "<Figure size 800x600 with 2 Axes>"
            ],
            "image/png": "[encoded data removed]"
          },
          "metadata": {}
        }
      ]
    },
    {
      "cell_type": "code",
      "source": [
        "#evaluate the model on the training data\n",
        "train_loss, train_accuracy = model_1.evaluate(X_train, y_train)\n",
        "\n",
        "#evaluate the model on the validation data\n",
        "val_loss, val_accuracy = model_1.evaluate(X_val, y_val)\n",
        "\n",
        "print('---------------------')\n",
        "print('Train loss:', round(train_loss, 4))\n",
        "print('Train accuracy', round(train_accuracy, 4))\n",
        "print('Val loss', round(val_loss, 4))\n",
        "print('Val accuracy', round(val_accuracy, 4))"
      ],
      "metadata": {
        "id": "_HJ7PRkz-46P",
        "colab": {
          "base_uri": "https://localhost:8080/"
        },
        "outputId": "47334813-7500-4735-883b-5a8fe02ec02e"
      },
      "execution_count": 17,
      "outputs": [
        {
          "output_type": "stream",
          "name": "stdout",
          "text": [
            "1050/1050 [==============================] - 3s 3ms/step - loss: 0.0106 - accuracy: 0.9968\n",
            "263/263 [==============================] - 1s 3ms/step - loss: 0.0229 - accuracy: 0.9939\n",
            "---------------------\n",
            "Train loss: 0.0106\n",
            "Train accuracy 0.9968\n",
            "Val loss 0.0229\n",
            "Val accuracy 0.9939\n"
          ]
        }
      ]
    },
    {
      "cell_type": "code",
      "source": [
        "val_predict = model_1.predict(X_val)\n",
        "#확률이 가장 높은 label이 최종 label이 된다.\n",
        "val_predict_labels = np.argmax(val_predict, axis=1)\n",
        "val_true_labels = np.argmax(y_val, axis=1)\n",
        "num_errors = np.count_nonzero(val_predict_labels != val_true_labels)\n",
        "\n",
        "print(f'Number of error predictions: {num_errors}')"
      ],
      "metadata": {
        "colab": {
          "base_uri": "https://localhost:8080/"
        },
        "id": "EH7v4kYO1VW6",
        "outputId": "4c1a8a54-bf43-4bba-e624-20d2423ce877"
      },
      "execution_count": 18,
      "outputs": [
        {
          "output_type": "stream",
          "name": "stdout",
          "text": [
            "263/263 [==============================] - 1s 2ms/step\n",
            "Number of error predictions: 51\n"
          ]
        }
      ]
    },
    {
      "cell_type": "code",
      "source": [
        "print(f'the percentage of errors is {(num_errors / len(y_val))}')"
      ],
      "metadata": {
        "colab": {
          "base_uri": "https://localhost:8080/"
        },
        "id": "bhc6WnZK2Us1",
        "outputId": "3acf7c9c-0d2b-481e-bdfb-43a7a13b0ee9"
      },
      "execution_count": 19,
      "outputs": [
        {
          "output_type": "stream",
          "name": "stdout",
          "text": [
            "the percentage of errors is 0.006071428571428571\n"
          ]
        }
      ]
    },
    {
      "cell_type": "markdown",
      "source": [
        "#Final Submission"
      ],
      "metadata": {
        "id": "v0LNCjGD3RRk"
      }
    },
    {
      "cell_type": "code",
      "source": [
        "predict_x = model_1.predict(test)\n",
        "class_x = np.argmax(predict_x, axis=1)\n",
        "\n",
        "submission['Label'] = class_x\n",
        "submission"
      ],
      "metadata": {
        "colab": {
          "base_uri": "https://localhost:8080/",
          "height": 442
        },
        "id": "Kh2_SuJ-3Lwt",
        "outputId": "2dabf7d8-5b73-4469-989a-ad22f84518fd"
      },
      "execution_count": 21,
      "outputs": [
        {
          "output_type": "stream",
          "name": "stdout",
          "text": [
            "875/875 [==============================] - 2s 2ms/step\n"
          ]
        },
        {
          "output_type": "execute_result",
          "data": {
            "text/plain": [
              "       ImageId  Label\n",
              "0            1      2\n",
              "1            2      0\n",
              "2            3      9\n",
              "3            4      0\n",
              "4            5      3\n",
              "...        ...    ...\n",
              "27995    27996      9\n",
              "27996    27997      7\n",
              "27997    27998      3\n",
              "27998    27999      9\n",
              "27999    28000      2\n",
              "\n",
              "[28000 rows x 2 columns]"
            ],
            "text/html": [
              "\n",
              "  <div id=\"df-62a667d8-ab3c-4aaa-a6ee-21956279c197\" class=\"colab-df-container\">\n",
              "    <div>\n",
              "<style scoped>\n",
              "    .dataframe tbody tr th:only-of-type {\n",
              "        vertical-align: middle;\n",
              "    }\n",
              "\n",
              "    .dataframe tbody tr th {\n",
              "        vertical-align: top;\n",
              "    }\n",
              "\n",
              "    .dataframe thead th {\n",
              "        text-align: right;\n",
              "    }\n",
              "</style>\n",
              "<table border=\"1\" class=\"dataframe\">\n",
              "  <thead>\n",
              "    <tr style=\"text-align: right;\">\n",
              "      <th></th>\n",
              "      <th>ImageId</th>\n",
              "      <th>Label</th>\n",
              "    </tr>\n",
              "  </thead>\n",
              "  <tbody>\n",
              "    <tr>\n",
              "      <th>0</th>\n",
              "      <td>1</td>\n",
              "      <td>2</td>\n",
              "    </tr>\n",
              "    <tr>\n",
              "      <th>1</th>\n",
              "      <td>2</td>\n",
              "      <td>0</td>\n",
              "    </tr>\n",
              "    <tr>\n",
              "      <th>2</th>\n",
              "      <td>3</td>\n",
              "      <td>9</td>\n",
              "    </tr>\n",
              "    <tr>\n",
              "      <th>3</th>\n",
              "      <td>4</td>\n",
              "      <td>0</td>\n",
              "    </tr>\n",
              "    <tr>\n",
              "      <th>4</th>\n",
              "      <td>5</td>\n",
              "      <td>3</td>\n",
              "    </tr>\n",
              "    <tr>\n",
              "      <th>...</th>\n",
              "      <td>...</td>\n",
              "      <td>...</td>\n",
              "    </tr>\n",
              "    <tr>\n",
              "      <th>27995</th>\n",
              "      <td>27996</td>\n",
              "      <td>9</td>\n",
              "    </tr>\n",
              "    <tr>\n",
              "      <th>27996</th>\n",
              "      <td>27997</td>\n",
              "      <td>7</td>\n",
              "    </tr>\n",
              "    <tr>\n",
              "      <th>27997</th>\n",
              "      <td>27998</td>\n",
              "      <td>3</td>\n",
              "    </tr>\n",
              "    <tr>\n",
              "      <th>27998</th>\n",
              "      <td>27999</td>\n",
              "      <td>9</td>\n",
              "    </tr>\n",
              "    <tr>\n",
              "      <th>27999</th>\n",
              "      <td>28000</td>\n",
              "      <td>2</td>\n",
              "    </tr>\n",
              "  </tbody>\n",
              "</table>\n",
              "<p>28000 rows × 2 columns</p>\n",
              "</div>\n",
              "    <div class=\"colab-df-buttons\">\n",
              "\n",
              "  <div class=\"colab-df-container\">\n",
              "    <button class=\"colab-df-convert\" onclick=\"convertToInteractive('df-62a667d8-ab3c-4aaa-a6ee-21956279c197')\"\n",
              "            title=\"Convert this dataframe to an interactive table.\"\n",
              "            style=\"display:none;\">\n",
              "\n",
              "  <svg xmlns=\"http://www.w3.org/2000/svg\" height=\"24px\" viewBox=\"0 -960 960 960\">\n",
              "    <path d=\"M120-120v-720h720v720H120Zm60-500h600v-160H180v160Zm220 220h160v-160H400v160Zm0 220h160v-160H400v160ZM180-400h160v-160H180v160Zm440 0h160v-160H620v160ZM180-180h160v-160H180v160Zm440 0h160v-160H620v160Z\"/>\n",
              "  </svg>\n",
              "    </button>\n",
              "\n",
              "  <style>\n",
              "    .colab-df-container {\n",
              "      display:flex;\n",
              "      gap: 12px;\n",
              "    }\n",
              "\n",
              "    .colab-df-convert {\n",
              "      background-color: #E8F0FE;\n",
              "      border: none;\n",
              "      border-radius: 50%;\n",
              "      cursor: pointer;\n",
              "      display: none;\n",
              "      fill: #1967D2;\n",
              "      height: 32px;\n",
              "      padding: 0 0 0 0;\n",
              "      width: 32px;\n",
              "    }\n",
              "\n",
              "    .colab-df-convert:hover {\n",
              "      background-color: #E2EBFA;\n",
              "      box-shadow: 0px 1px 2px rgba(60, 64, 67, 0.3), 0px 1px 3px 1px rgba(60, 64, 67, 0.15);\n",
              "      fill: #174EA6;\n",
              "    }\n",
              "\n",
              "    .colab-df-buttons div {\n",
              "      margin-bottom: 4px;\n",
              "    }\n",
              "\n",
              "    [theme=dark] .colab-df-convert {\n",
              "      background-color: #3B4455;\n",
              "      fill: #D2E3FC;\n",
              "    }\n",
              "\n",
              "    [theme=dark] .colab-df-convert:hover {\n",
              "      background-color: #434B5C;\n",
              "      box-shadow: 0px 1px 3px 1px rgba(0, 0, 0, 0.15);\n",
              "      filter: drop-shadow(0px 1px 2px rgba(0, 0, 0, 0.3));\n",
              "      fill: #FFFFFF;\n",
              "    }\n",
              "  </style>\n",
              "\n",
              "    <script>\n",
              "      const buttonEl =\n",
              "        document.querySelector('#df-62a667d8-ab3c-4aaa-a6ee-21956279c197 button.colab-df-convert');\n",
              "      buttonEl.style.display =\n",
              "        google.colab.kernel.accessAllowed ? 'block' : 'none';\n",
              "\n",
              "      async function convertToInteractive(key) {\n",
              "        const element = document.querySelector('#df-62a667d8-ab3c-4aaa-a6ee-21956279c197');\n",
              "        const dataTable =\n",
              "          await google.colab.kernel.invokeFunction('convertToInteractive',\n",
              "                                                    [key], {});\n",
              "        if (!dataTable) return;\n",
              "\n",
              "        const docLinkHtml = 'Like what you see? Visit the ' +\n",
              "          '<a target=\"_blank\" href=https://colab.research.google.com/notebooks/data_table.ipynb>data table notebook</a>'\n",
              "          + ' to learn more about interactive tables.';\n",
              "        element.innerHTML = '';\n",
              "        dataTable['output_type'] = 'display_data';\n",
              "        await google.colab.output.renderOutput(dataTable, element);\n",
              "        const docLink = document.createElement('div');\n",
              "        docLink.innerHTML = docLinkHtml;\n",
              "        element.appendChild(docLink);\n",
              "      }\n",
              "    </script>\n",
              "  </div>\n",
              "\n",
              "\n",
              "<div id=\"df-bd0efca6-158e-461f-99c1-18ae258483c9\">\n",
              "  <button class=\"colab-df-quickchart\" onclick=\"quickchart('df-bd0efca6-158e-461f-99c1-18ae258483c9')\"\n",
              "            title=\"Suggest charts.\"\n",
              "            style=\"display:none;\">\n",
              "\n",
              "<svg xmlns=\"http://www.w3.org/2000/svg\" height=\"24px\"viewBox=\"0 0 24 24\"\n",
              "     width=\"24px\">\n",
              "    <g>\n",
              "        <path d=\"M19 3H5c-1.1 0-2 .9-2 2v14c0 1.1.9 2 2 2h14c1.1 0 2-.9 2-2V5c0-1.1-.9-2-2-2zM9 17H7v-7h2v7zm4 0h-2V7h2v10zm4 0h-2v-4h2v4z\"/>\n",
              "    </g>\n",
              "</svg>\n",
              "  </button>\n",
              "\n",
              "<style>\n",
              "  .colab-df-quickchart {\n",
              "      --bg-color: #E8F0FE;\n",
              "      --fill-color: #1967D2;\n",
              "      --hover-bg-color: #E2EBFA;\n",
              "      --hover-fill-color: #174EA6;\n",
              "      --disabled-fill-color: #AAA;\n",
              "      --disabled-bg-color: #DDD;\n",
              "  }\n",
              "\n",
              "  [theme=dark] .colab-df-quickchart {\n",
              "      --bg-color: #3B4455;\n",
              "      --fill-color: #D2E3FC;\n",
              "      --hover-bg-color: #434B5C;\n",
              "      --hover-fill-color: #FFFFFF;\n",
              "      --disabled-bg-color: #3B4455;\n",
              "      --disabled-fill-color: #666;\n",
              "  }\n",
              "\n",
              "  .colab-df-quickchart {\n",
              "    background-color: var(--bg-color);\n",
              "    border: none;\n",
              "    border-radius: 50%;\n",
              "    cursor: pointer;\n",
              "    display: none;\n",
              "    fill: var(--fill-color);\n",
              "    height: 32px;\n",
              "    padding: 0;\n",
              "    width: 32px;\n",
              "  }\n",
              "\n",
              "  .colab-df-quickchart:hover {\n",
              "    background-color: var(--hover-bg-color);\n",
              "    box-shadow: 0 1px 2px rgba(60, 64, 67, 0.3), 0 1px 3px 1px rgba(60, 64, 67, 0.15);\n",
              "    fill: var(--button-hover-fill-color);\n",
              "  }\n",
              "\n",
              "  .colab-df-quickchart-complete:disabled,\n",
              "  .colab-df-quickchart-complete:disabled:hover {\n",
              "    background-color: var(--disabled-bg-color);\n",
              "    fill: var(--disabled-fill-color);\n",
              "    box-shadow: none;\n",
              "  }\n",
              "\n",
              "  .colab-df-spinner {\n",
              "    border: 2px solid var(--fill-color);\n",
              "    border-color: transparent;\n",
              "    border-bottom-color: var(--fill-color);\n",
              "    animation:\n",
              "      spin 1s steps(1) infinite;\n",
              "  }\n",
              "\n",
              "  @keyframes spin {\n",
              "    0% {\n",
              "      border-color: transparent;\n",
              "      border-bottom-color: var(--fill-color);\n",
              "      border-left-color: var(--fill-color);\n",
              "    }\n",
              "    20% {\n",
              "      border-color: transparent;\n",
              "      border-left-color: var(--fill-color);\n",
              "      border-top-color: var(--fill-color);\n",
              "    }\n",
              "    30% {\n",
              "      border-color: transparent;\n",
              "      border-left-color: var(--fill-color);\n",
              "      border-top-color: var(--fill-color);\n",
              "      border-right-color: var(--fill-color);\n",
              "    }\n",
              "    40% {\n",
              "      border-color: transparent;\n",
              "      border-right-color: var(--fill-color);\n",
              "      border-top-color: var(--fill-color);\n",
              "    }\n",
              "    60% {\n",
              "      border-color: transparent;\n",
              "      border-right-color: var(--fill-color);\n",
              "    }\n",
              "    80% {\n",
              "      border-color: transparent;\n",
              "      border-right-color: var(--fill-color);\n",
              "      border-bottom-color: var(--fill-color);\n",
              "    }\n",
              "    90% {\n",
              "      border-color: transparent;\n",
              "      border-bottom-color: var(--fill-color);\n",
              "    }\n",
              "  }\n",
              "</style>\n",
              "\n",
              "  <script>\n",
              "    async function quickchart(key) {\n",
              "      const quickchartButtonEl =\n",
              "        document.querySelector('#' + key + ' button');\n",
              "      quickchartButtonEl.disabled = true;  // To prevent multiple clicks.\n",
              "      quickchartButtonEl.classList.add('colab-df-spinner');\n",
              "      try {\n",
              "        const charts = await google.colab.kernel.invokeFunction(\n",
              "            'suggestCharts', [key], {});\n",
              "      } catch (error) {\n",
              "        console.error('Error during call to suggestCharts:', error);\n",
              "      }\n",
              "      quickchartButtonEl.classList.remove('colab-df-spinner');\n",
              "      quickchartButtonEl.classList.add('colab-df-quickchart-complete');\n",
              "    }\n",
              "    (() => {\n",
              "      let quickchartButtonEl =\n",
              "        document.querySelector('#df-bd0efca6-158e-461f-99c1-18ae258483c9 button');\n",
              "      quickchartButtonEl.style.display =\n",
              "        google.colab.kernel.accessAllowed ? 'block' : 'none';\n",
              "    })();\n",
              "  </script>\n",
              "</div>\n",
              "    </div>\n",
              "  </div>\n"
            ]
          },
          "metadata": {},
          "execution_count": 21
        }
      ]
    }
  ]
}